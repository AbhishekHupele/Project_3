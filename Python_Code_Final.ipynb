{
 "cells": [
  {
   "cell_type": "code",
   "execution_count": 1,
   "metadata": {},
   "outputs": [],
   "source": [
    "#2. How much losses every month can we project in 2011 if same trend of absenteeism continues?\n"
   ]
  },
  {
   "cell_type": "code",
   "execution_count": 2,
   "metadata": {},
   "outputs": [
    {
     "name": "stderr",
     "output_type": "stream",
     "text": [
      "/anaconda3/lib/python3.6/site-packages/h5py/__init__.py:36: FutureWarning: Conversion of the second argument of issubdtype from `float` to `np.floating` is deprecated. In future, it will be treated as `np.float64 == np.dtype(float).type`.\n",
      "  from ._conv import register_converters as _register_converters\n",
      "Using TensorFlow backend.\n"
     ]
    }
   ],
   "source": [
    "##Import Libararies\n",
    "\n",
    "import pandas as pd\n",
    "import numpy as np\n",
    "from fancyimpute import KNN\n",
    "import matplotlib.pyplot as plt\n",
    "import seaborn as sns\n",
    "import statsmodels.api as sm\n",
    "from statsmodels.formula.api import ols\n",
    "from sklearn.decomposition import PCA\n",
    "from sklearn.tree import DecisionTreeRegressor\n",
    "from sklearn.linear_model import Ridge, Lasso, LinearRegression,Lars\n",
    "from sklearn.ensemble import  RandomForestRegressor\n",
    "from sklearn.metrics import mean_squared_error\n",
    "from sklearn.preprocessing import MinMaxScaler\n",
    "from sklearn.model_selection import train_test_split\n",
    "from sklearn.feature_selection import SelectKBest, f_regression"
   ]
  },
  {
   "cell_type": "code",
   "execution_count": 3,
   "metadata": {},
   "outputs": [],
   "source": [
    "##Import Data\n",
    "data = pd.read_excel('Absenteeism_at_work_Project.xls')\n",
    "data_org = data\n",
    "col = data.columns\n",
    "# Numerical and Categorical Variables\n",
    "n_col = ['Transportation expense', 'Distance from Residence to Work','Service time', \n",
    "         'Age', 'Work load Average/day ', 'Hit target','Son','Pet', 'Weight', 'Height', \n",
    "         'Body mass index','Absenteeism time in hours']\n",
    "c_col = ['ID', 'Reason for absence', 'Month of absence', 'Day of the week','Seasons', 'Disciplinary failure', \n",
    "         'Education','Social drinker','Social smoker',]"
   ]
  },
  {
   "cell_type": "code",
   "execution_count": 4,
   "metadata": {
    "scrolled": true
   },
   "outputs": [
    {
     "name": "stderr",
     "output_type": "stream",
     "text": [
      "/anaconda3/lib/python3.6/site-packages/ipykernel_launcher.py:12: SettingWithCopyWarning: \n",
      "A value is trying to be set on a copy of a slice from a DataFrame.\n",
      "Try using .loc[row_indexer,col_indexer] = value instead\n",
      "\n",
      "See the caveats in the documentation: http://pandas.pydata.org/pandas-docs/stable/indexing.html#indexing-view-versus-copy\n",
      "  if sys.path[0] == '':\n",
      "/anaconda3/lib/python3.6/site-packages/ipykernel_launcher.py:13: SettingWithCopyWarning: \n",
      "A value is trying to be set on a copy of a slice from a DataFrame.\n",
      "Try using .loc[row_indexer,col_indexer] = value instead\n",
      "\n",
      "See the caveats in the documentation: http://pandas.pydata.org/pandas-docs/stable/indexing.html#indexing-view-versus-copy\n",
      "  del sys.path[0]\n",
      "/anaconda3/lib/python3.6/site-packages/ipykernel_launcher.py:17: SettingWithCopyWarning: \n",
      "A value is trying to be set on a copy of a slice from a DataFrame.\n",
      "Try using .loc[row_indexer,col_indexer] = value instead\n",
      "\n",
      "See the caveats in the documentation: http://pandas.pydata.org/pandas-docs/stable/indexing.html#indexing-view-versus-copy\n",
      "/anaconda3/lib/python3.6/site-packages/ipykernel_launcher.py:18: SettingWithCopyWarning: \n",
      "A value is trying to be set on a copy of a slice from a DataFrame.\n",
      "Try using .loc[row_indexer,col_indexer] = value instead\n",
      "\n",
      "See the caveats in the documentation: http://pandas.pydata.org/pandas-docs/stable/indexing.html#indexing-view-versus-copy\n",
      "/anaconda3/lib/python3.6/site-packages/ipykernel_launcher.py:22: SettingWithCopyWarning: \n",
      "A value is trying to be set on a copy of a slice from a DataFrame.\n",
      "Try using .loc[row_indexer,col_indexer] = value instead\n",
      "\n",
      "See the caveats in the documentation: http://pandas.pydata.org/pandas-docs/stable/indexing.html#indexing-view-versus-copy\n",
      "/anaconda3/lib/python3.6/site-packages/ipykernel_launcher.py:23: SettingWithCopyWarning: \n",
      "A value is trying to be set on a copy of a slice from a DataFrame.\n",
      "Try using .loc[row_indexer,col_indexer] = value instead\n",
      "\n",
      "See the caveats in the documentation: http://pandas.pydata.org/pandas-docs/stable/indexing.html#indexing-view-versus-copy\n",
      "/anaconda3/lib/python3.6/site-packages/pandas/core/indexing.py:194: SettingWithCopyWarning: \n",
      "A value is trying to be set on a copy of a slice from a DataFrame\n",
      "\n",
      "See the caveats in the documentation: http://pandas.pydata.org/pandas-docs/stable/indexing.html#indexing-view-versus-copy\n",
      "  self._setitem_with_indexer(indexer, value)\n"
     ]
    },
    {
     "name": "stdout",
     "output_type": "stream",
     "text": [
      "Imputing row 1/740 with 0 missing, elapsed time: 0.169\n",
      "Imputing row 101/740 with 0 missing, elapsed time: 0.172\n",
      "Imputing row 201/740 with 0 missing, elapsed time: 0.173\n",
      "Imputing row 301/740 with 0 missing, elapsed time: 0.174\n",
      "Imputing row 401/740 with 0 missing, elapsed time: 0.175\n",
      "Imputing row 501/740 with 0 missing, elapsed time: 0.176\n",
      "Imputing row 601/740 with 0 missing, elapsed time: 0.177\n",
      "Imputing row 701/740 with 0 missing, elapsed time: 0.177\n"
     ]
    }
   ],
   "source": [
    "# Identify Columnwise Missing Values \n",
    "missing_val = pd.DataFrame(data.isnull().sum())\n",
    "missing_val.reset_index()\n",
    "missing_val = missing_val.rename(columns = {'index' : 'variables', 0:'miss_value'})\n",
    "row,col = data.shape\n",
    "missing_val['miss_percentage'] = round((missing_val['miss_value']/row)*100,2)\n",
    "missing_val = missing_val.sort_values('miss_percentage',ascending=False)\n",
    "# Select sample data and find best method to predict missing values\n",
    "#missing_val\n",
    "# impute BMI\n",
    "temp = data[['Weight', 'Height', 'Body mass index']]\n",
    "temp['pred_BMI'] = (data['Weight']/(data['Height']**2))*10000\n",
    "temp['error_BMI'] = temp['Body mass index']-temp['pred_BMI']\n",
    "#print(temp['error_BMI'].dropna().mean())\n",
    "data['Body mass index'].fillna((data['Weight']/(data['Height']**2))*10000,inplace = True)\n",
    "# impute Height\n",
    "temp['pred_Height'] = ((data['Weight']/data['Body mass index'])*10000)**0.5\n",
    "temp['error_Height'] = temp['Height']-temp['pred_Height']\n",
    "#print(temp['error_Height'].dropna().mean())\n",
    "data['Height'].fillna(((data['Weight']/data['Body mass index'])*10000)**0.5,inplace = True)\n",
    "# impute Weight\n",
    "temp['pred_Weight'] = ((data['Height']**2)*data['Body mass index'])/10000\n",
    "temp['error_Weight'] = temp['Weight']-temp['pred_Weight']\n",
    "#print(temp['error_Weight'].dropna().mean())\n",
    "data['Weight'].fillna(((data['Height']**2)*data['Body mass index'])/10000,inplace = True)\n",
    "# Selecting best method to impute missing value\n",
    "# Crete dummy missing value\n",
    "temp_data = data\n",
    "temp_data['Body mass index'].iloc[22] # 27.0\n",
    "temp_data['Body mass index'].iloc[22] = np.NaN\n",
    "#temp_data['Body mass index'].iloc[22]\n",
    "temp_data['Body mass index'].mean() #26.68\n",
    "temp_data['Body mass index'].iloc[22] = np.NaN\n",
    "temp_data['Body mass index'].median() #25\n",
    "temp_data['Body mass index'].iloc[22] = np.NaN\n",
    "temp_data = pd.DataFrame(KNN(k=3).complete(temp_data),columns = temp_data.columns)\n",
    "temp_data['Body mass index'].iloc[22] # 27\n",
    "# Best match by KNN\n",
    "data = temp_data\n",
    "# Check any Columnwise Missing Values \n",
    "#pd.DataFrame(data.isnull().sum())"
   ]
  },
  {
   "cell_type": "code",
   "execution_count": 5,
   "metadata": {},
   "outputs": [],
   "source": [
    "# Impute outliers \n",
    "df = data\n",
    "for col in n_col:\n",
    "    percentiles = df[col].quantile([0.01,0.99]).values\n",
    "    df[col][df[col] <= percentiles[0]] = percentiles[0]\n",
    "    df[col][df[col] >= percentiles[1]] = percentiles[1]\n",
    "data = df\n",
    "#data.shape"
   ]
  },
  {
   "cell_type": "code",
   "execution_count": 6,
   "metadata": {},
   "outputs": [
    {
     "data": {
      "text/plain": [
       "(740, 74)"
      ]
     },
     "execution_count": 6,
     "metadata": {},
     "output_type": "execute_result"
    }
   ],
   "source": [
    "df1 = data.applymap(int)\n",
    "for i in c_col[1:]:\n",
    "    df1[i].astype('str')\n",
    "temp = pd.DataFrame(df1['Absenteeism time in hours'])\n",
    "temp = temp.join(data[n_col[0:-1]])\n",
    "for i in c_col[1:]:\n",
    "    d = pd.get_dummies(df1[i],prefix = i)\n",
    "    temp = temp.join(d)\n",
    "data_hotencod = temp\n",
    "data_hotencod.shape"
   ]
  },
  {
   "cell_type": "code",
   "execution_count": 7,
   "metadata": {},
   "outputs": [
    {
     "name": "stdout",
     "output_type": "stream",
     "text": [
      "Variable: Absenteeism time in hours        Importance: 0.08\n",
      "Variable: Age                              Importance: 0.08\n",
      "Variable: Service time                     Importance: 0.07\n",
      "Variable: Reason for absence_18            Importance: 0.07\n",
      "Variable: Work load Average/day            Importance: 0.05\n",
      "Variable: Reason for absence_12            Importance: 0.05\n",
      "Variable: Transportation expense           Importance: 0.04\n",
      "Variable: Reason for absence_8             Importance: 0.04\n",
      "Variable: Month of absence_11              Importance: 0.04\n",
      "Variable: Day of the week_2                Importance: 0.04\n",
      "Variable: Weight                           Importance: 0.03\n",
      "Variable: Reason for absence_11            Importance: 0.03\n",
      "Variable: Distance from Residence to Work  Importance: 0.02\n",
      "Variable: Hit target                       Importance: 0.02\n",
      "Variable: Son                              Importance: 0.02\n",
      "Variable: Pet                              Importance: 0.02\n",
      "Variable: Reason for absence_9             Importance: 0.02\n",
      "Variable: Month of absence_3               Importance: 0.02\n",
      "Variable: Month of absence_6               Importance: 0.02\n",
      "Variable: Month of absence_12              Importance: 0.02\n",
      "Variable: Seasons_3                        Importance: 0.02\n",
      "Variable: Height                           Importance: 0.01\n",
      "Variable: Reason for absence_0             Importance: 0.01\n",
      "Variable: Reason for absence_5             Importance: 0.01\n",
      "Variable: Reason for absence_6             Importance: 0.01\n",
      "Variable: Reason for absence_10            Importance: 0.01\n",
      "Variable: Reason for absence_13            Importance: 0.01\n",
      "Variable: Reason for absence_17            Importance: 0.01\n",
      "Variable: Reason for absence_24            Importance: 0.01\n",
      "Variable: Month of absence_2               Importance: 0.01\n",
      "Variable: Month of absence_5               Importance: 0.01\n",
      "Variable: Month of absence_10              Importance: 0.01\n",
      "Variable: Day of the week_3                Importance: 0.01\n",
      "Variable: Day of the week_5                Importance: 0.01\n",
      "Variable: Seasons_1                        Importance: 0.01\n",
      "Variable: Seasons_2                        Importance: 0.01\n",
      "Variable: Education_4                      Importance: 0.01\n",
      "Variable: Social drinker_0                 Importance: 0.01\n",
      "Variable: Body mass index                  Importance: 0.0\n",
      "Variable: Reason for absence_1             Importance: 0.0\n",
      "Variable: Reason for absence_2             Importance: 0.0\n",
      "Variable: Reason for absence_3             Importance: 0.0\n",
      "Variable: Reason for absence_4             Importance: 0.0\n",
      "Variable: Reason for absence_7             Importance: 0.0\n",
      "Variable: Reason for absence_14            Importance: 0.0\n",
      "Variable: Reason for absence_15            Importance: 0.0\n",
      "Variable: Reason for absence_16            Importance: 0.0\n",
      "Variable: Reason for absence_19            Importance: 0.0\n",
      "Variable: Reason for absence_20            Importance: 0.0\n",
      "Variable: Reason for absence_21            Importance: 0.0\n",
      "Variable: Reason for absence_22            Importance: 0.0\n",
      "Variable: Reason for absence_23            Importance: 0.0\n",
      "Variable: Reason for absence_25            Importance: 0.0\n",
      "Variable: Reason for absence_26            Importance: 0.0\n",
      "Variable: Reason for absence_27            Importance: 0.0\n",
      "Variable: Reason for absence_28            Importance: 0.0\n",
      "Variable: Month of absence_0               Importance: 0.0\n",
      "Variable: Month of absence_1               Importance: 0.0\n",
      "Variable: Month of absence_4               Importance: 0.0\n",
      "Variable: Month of absence_7               Importance: 0.0\n",
      "Variable: Month of absence_8               Importance: 0.0\n",
      "Variable: Month of absence_9               Importance: 0.0\n",
      "Variable: Day of the week_4                Importance: 0.0\n",
      "Variable: Day of the week_6                Importance: 0.0\n",
      "Variable: Seasons_4                        Importance: 0.0\n",
      "Variable: Disciplinary failure_0           Importance: 0.0\n",
      "Variable: Disciplinary failure_1           Importance: 0.0\n",
      "Variable: Education_0                      Importance: 0.0\n",
      "Variable: Education_1                      Importance: 0.0\n",
      "Variable: Education_2                      Importance: 0.0\n",
      "Variable: Education_3                      Importance: 0.0\n",
      "Variable: Social drinker_1                 Importance: 0.0\n",
      "Variable: Social smoker_0                  Importance: 0.0\n"
     ]
    },
    {
     "data": {
      "text/plain": [
       "[None,\n",
       " None,\n",
       " None,\n",
       " None,\n",
       " None,\n",
       " None,\n",
       " None,\n",
       " None,\n",
       " None,\n",
       " None,\n",
       " None,\n",
       " None,\n",
       " None,\n",
       " None,\n",
       " None,\n",
       " None,\n",
       " None,\n",
       " None,\n",
       " None,\n",
       " None,\n",
       " None,\n",
       " None,\n",
       " None,\n",
       " None,\n",
       " None,\n",
       " None,\n",
       " None,\n",
       " None,\n",
       " None,\n",
       " None,\n",
       " None,\n",
       " None,\n",
       " None,\n",
       " None,\n",
       " None,\n",
       " None,\n",
       " None,\n",
       " None,\n",
       " None,\n",
       " None,\n",
       " None,\n",
       " None,\n",
       " None,\n",
       " None,\n",
       " None,\n",
       " None,\n",
       " None,\n",
       " None,\n",
       " None,\n",
       " None,\n",
       " None,\n",
       " None,\n",
       " None,\n",
       " None,\n",
       " None,\n",
       " None,\n",
       " None,\n",
       " None,\n",
       " None,\n",
       " None,\n",
       " None,\n",
       " None,\n",
       " None,\n",
       " None,\n",
       " None,\n",
       " None,\n",
       " None,\n",
       " None,\n",
       " None,\n",
       " None,\n",
       " None,\n",
       " None,\n",
       " None]"
      ]
     },
     "execution_count": 7,
     "metadata": {},
     "output_type": "execute_result"
    }
   ],
   "source": [
    "# Hot Encoded/dummy Varibles Data\n",
    "# Feature Importance Matrix Random Forest for \n",
    "import pandas as pd\n",
    "from sklearn import datasets, linear_model\n",
    "from sklearn.model_selection import train_test_split\n",
    "from matplotlib import pyplot as plt\n",
    "from sklearn.ensemble import RandomForestRegressor\n",
    "\n",
    "rf_model = RandomForestRegressor(n_estimators=300).fit(data_hotencod.iloc[:,1:],data_hotencod.iloc[:,0])\n",
    "importances = list(rf_model.feature_importances_)\n",
    "feature_importances = [(feature, round(importance, 2)) for feature, importance in zip(list(data_hotencod.columns),\n",
    "                                                                                      importances)]\n",
    "# Sort the feature importances by most important first\n",
    "feature_importances = sorted(feature_importances, key = lambda x: x[1], reverse = True)\n",
    "# Print out the feature and importances \n",
    "[print('Variable: {:32} Importance: {}'.format(*pair)) for pair in feature_importances]"
   ]
  },
  {
   "cell_type": "code",
   "execution_count": 8,
   "metadata": {},
   "outputs": [
    {
     "data": {
      "text/plain": [
       "[('Absenteeism time in hours', 0.08),\n",
       " ('Age', 0.08),\n",
       " ('Service time', 0.07),\n",
       " ('Reason for absence_18', 0.07),\n",
       " ('Work load Average/day ', 0.05),\n",
       " ('Reason for absence_12', 0.05),\n",
       " ('Transportation expense', 0.04),\n",
       " ('Reason for absence_8', 0.04),\n",
       " ('Month of absence_11', 0.04),\n",
       " ('Day of the week_2', 0.04),\n",
       " ('Weight', 0.03),\n",
       " ('Reason for absence_11', 0.03),\n",
       " ('Distance from Residence to Work', 0.02),\n",
       " ('Hit target', 0.02),\n",
       " ('Son', 0.02),\n",
       " ('Pet', 0.02),\n",
       " ('Reason for absence_9', 0.02),\n",
       " ('Month of absence_3', 0.02),\n",
       " ('Month of absence_6', 0.02),\n",
       " ('Month of absence_12', 0.02),\n",
       " ('Seasons_3', 0.02),\n",
       " ('Height', 0.01),\n",
       " ('Reason for absence_0', 0.01),\n",
       " ('Reason for absence_5', 0.01),\n",
       " ('Reason for absence_6', 0.01),\n",
       " ('Reason for absence_10', 0.01),\n",
       " ('Reason for absence_13', 0.01),\n",
       " ('Reason for absence_17', 0.01),\n",
       " ('Reason for absence_24', 0.01),\n",
       " ('Month of absence_2', 0.01),\n",
       " ('Month of absence_5', 0.01),\n",
       " ('Month of absence_10', 0.01),\n",
       " ('Day of the week_3', 0.01),\n",
       " ('Day of the week_5', 0.01),\n",
       " ('Seasons_1', 0.01),\n",
       " ('Seasons_2', 0.01),\n",
       " ('Education_4', 0.01),\n",
       " ('Social drinker_0', 0.01),\n",
       " ('Body mass index', 0.0),\n",
       " ('Reason for absence_1', 0.0),\n",
       " ('Reason for absence_2', 0.0),\n",
       " ('Reason for absence_3', 0.0),\n",
       " ('Reason for absence_4', 0.0),\n",
       " ('Reason for absence_7', 0.0),\n",
       " ('Reason for absence_14', 0.0),\n",
       " ('Reason for absence_15', 0.0),\n",
       " ('Reason for absence_16', 0.0),\n",
       " ('Reason for absence_19', 0.0),\n",
       " ('Reason for absence_20', 0.0),\n",
       " ('Reason for absence_21', 0.0),\n",
       " ('Reason for absence_22', 0.0),\n",
       " ('Reason for absence_23', 0.0),\n",
       " ('Reason for absence_25', 0.0),\n",
       " ('Reason for absence_26', 0.0),\n",
       " ('Reason for absence_27', 0.0),\n",
       " ('Reason for absence_28', 0.0),\n",
       " ('Month of absence_0', 0.0),\n",
       " ('Month of absence_1', 0.0),\n",
       " ('Month of absence_4', 0.0),\n",
       " ('Month of absence_7', 0.0),\n",
       " ('Month of absence_8', 0.0),\n",
       " ('Month of absence_9', 0.0),\n",
       " ('Day of the week_4', 0.0),\n",
       " ('Day of the week_6', 0.0),\n",
       " ('Seasons_4', 0.0),\n",
       " ('Disciplinary failure_0', 0.0),\n",
       " ('Disciplinary failure_1', 0.0),\n",
       " ('Education_0', 0.0),\n",
       " ('Education_1', 0.0),\n",
       " ('Education_2', 0.0),\n",
       " ('Education_3', 0.0),\n",
       " ('Social drinker_1', 0.0),\n",
       " ('Social smoker_0', 0.0)]"
      ]
     },
     "execution_count": 8,
     "metadata": {},
     "output_type": "execute_result"
    }
   ],
   "source": [
    "feature_importances"
   ]
  },
  {
   "cell_type": "code",
   "execution_count": 9,
   "metadata": {},
   "outputs": [
    {
     "data": {
      "image/png": "[encoded data removed]",
      "text/plain": [
       "<matplotlib.figure.Figure at 0x1c2013db38>"
      ]
     },
     "metadata": {},
     "output_type": "display_data"
    }
   ],
   "source": [
    "# Importance plotting\n",
    "x_values = list(range(len(importances)))\n",
    "# Make a bar chart\n",
    "plt.bar(x_values, importances, orientation = 'vertical', color = 'r', edgecolor = 'k', linewidth = 1.2)\n",
    "# Tick labels for x axis\n",
    "plt.xticks(x_values, data.columns, rotation='vertical')\n",
    "# Axis labels and title\n",
    "plt.ylabel('Importance'); plt.xlabel('Variable'); plt.title('Variable Importances');"
   ]
  },
  {
   "cell_type": "code",
   "execution_count": 10,
   "metadata": {},
   "outputs": [
    {
     "name": "stdout",
     "output_type": "stream",
     "text": [
      "Number of features for 90% importance: 31\n"
     ]
    },
    {
     "data": {
      "image/png": "[encoded data removed]",
      "text/plain": [
       "<matplotlib.figure.Figure at 0x1c2635e160>"
      ]
     },
     "metadata": {},
     "output_type": "display_data"
    }
   ],
   "source": [
    "# List of features sorted from most to least important\n",
    "sorted_importances = [importance[1] for importance in feature_importances]\n",
    "sorted_features = [importance[0] for importance in feature_importances]\n",
    "# Cumulative importances\n",
    "cumulative_importances = np.cumsum(sorted_importances)\n",
    "# Make a line graph\n",
    "plt.plot(x_values, cumulative_importances, 'g-')\n",
    "# Draw line at 90% of importance retained\n",
    "plt.hlines(y = 0.90, xmin=0, xmax=len(sorted_importances), color = 'r', linestyles = 'dashed')\n",
    "# Format x ticks and labels\n",
    "plt.xticks(x_values, sorted_features, rotation = 'vertical')\n",
    "# Axis labels and title\n",
    "plt.xlabel('Variable'); plt.ylabel('Cumulative Importance'); plt.title('Cumulative Importances');\n",
    "# Find number of features for cumulative importance of 90%\n",
    "# Add 1 because Python is zero-indexed\n",
    "print('Number of features for 90% importance:', np.where(cumulative_importances > 0.90)[0][0] + 1)"
   ]
  },
  {
   "cell_type": "code",
   "execution_count": 11,
   "metadata": {},
   "outputs": [],
   "source": [
    "#selecting top 15 features\n",
    "new = SelectKBest(f_regression,k=33).fit_transform(data_hotencod.iloc[:,1:],data_hotencod.iloc[:,0])\n",
    "X_train, X_test, y_train, y_test = train_test_split(new,data_hotencod.iloc[:,0], test_size=0.2,random_state=42)"
   ]
  },
  {
   "cell_type": "code",
   "execution_count": 12,
   "metadata": {},
   "outputs": [
    {
     "name": "stdout",
     "output_type": "stream",
     "text": [
      "RMSE :  14.63159324957542\n"
     ]
    }
   ],
   "source": [
    "#Decision Tree\n",
    "dt_model=DecisionTreeRegressor(random_state=3).fit(X_train,y_train)\n",
    "pred = dt_model.predict(X_test) \n",
    "print('RMSE : ',np.sqrt(mean_squared_error(y_test,pred)))\n",
    "#print('Model Score :', rf_model.score(X_test, y_test))"
   ]
  },
  {
   "cell_type": "code",
   "execution_count": 13,
   "metadata": {},
   "outputs": [
    {
     "name": "stdout",
     "output_type": "stream",
     "text": [
      "RMSE :  10.948537317768395\n",
      "Model Score : -0.10319502095818556\n"
     ]
    }
   ],
   "source": [
    "#Random forest\n",
    "rf_model = RandomForestRegressor(n_estimators=700).fit(X_train,y_train)\n",
    "pred = rf_model.predict(X_test) \n",
    "print('RMSE : ',np.sqrt(mean_squared_error(y_test,pred))),\n",
    "print('Model Score :', rf_model.score(X_test, y_test))"
   ]
  },
  {
   "cell_type": "code",
   "execution_count": 14,
   "metadata": {},
   "outputs": [
    {
     "name": "stdout",
     "output_type": "stream",
     "text": [
      "RMSE :  10.207906537284423\n"
     ]
    }
   ],
   "source": [
    "#Linear Regression\n",
    "import statsmodels.api as sm\n",
    "lr_model = sm.OLS(y_train,X_train).fit()\n",
    "pred = lr_model.predict(X_test)\n",
    "print('RMSE : ',np.sqrt(mean_squared_error(y_test,pred)))\n",
    "#print('Model Score :', lr_model.score(X_test, y_test))#lr_model.summary()"
   ]
  },
  {
   "cell_type": "code",
   "execution_count": 15,
   "metadata": {},
   "outputs": [
    {
     "name": "stdout",
     "output_type": "stream",
     "text": [
      "RMSE :  10.057751311192343\n",
      "Model Score : 0.06901673759697602\n"
     ]
    }
   ],
   "source": [
    "#Ridge Regression\n",
    "ridge_model=Ridge().fit(X_train,y_train)\n",
    "pred = ridge_model.predict(X_test)\n",
    "print('RMSE : ',np.sqrt(mean_squared_error(y_test,pred)))\n",
    "print('Model Score :', ridge_model.score(X_test, y_test))"
   ]
  },
  {
   "cell_type": "code",
   "execution_count": 16,
   "metadata": {},
   "outputs": [
    {
     "name": "stdout",
     "output_type": "stream",
     "text": [
      "RMSE :  10.285971894071205\n",
      "Model Score : 0.02628748114445323\n"
     ]
    }
   ],
   "source": [
    "#Lasso regression\n",
    "lasso_model=Lasso().fit(X_train,y_train)\n",
    "pred = lasso_model.predict(X_test)\n",
    "print('RMSE : ',np.sqrt(mean_squared_error(y_test,pred)))\n",
    "print('Model Score :', lasso_model.score(X_test, y_test))"
   ]
  },
  {
   "cell_type": "code",
   "execution_count": 17,
   "metadata": {},
   "outputs": [
    {
     "name": "stdout",
     "output_type": "stream",
     "text": [
      "RMSE :  10.180298714992146\n",
      "Model Score : 0.04619162822504064\n"
     ]
    },
    {
     "name": "stderr",
     "output_type": "stream",
     "text": [
      "/anaconda3/lib/python3.6/site-packages/sklearn/linear_model/least_angle.py:313: ConvergenceWarning: Regressors in active set degenerate. Dropping a regressor, after 26 iterations, i.e. alpha=6.410e-03, with an active set of 26 regressors, and the smallest cholesky pivot element being 1.054e-08. Reduce max_iter or increase eps parameters.\n",
      "  ConvergenceWarning)\n",
      "/anaconda3/lib/python3.6/site-packages/sklearn/linear_model/least_angle.py:313: ConvergenceWarning: Regressors in active set degenerate. Dropping a regressor, after 28 iterations, i.e. alpha=3.205e-03, with an active set of 28 regressors, and the smallest cholesky pivot element being 1.490e-08. Reduce max_iter or increase eps parameters.\n",
      "  ConvergenceWarning)\n",
      "/anaconda3/lib/python3.6/site-packages/sklearn/linear_model/least_angle.py:313: ConvergenceWarning: Regressors in active set degenerate. Dropping a regressor, after 29 iterations, i.e. alpha=1.553e-03, with an active set of 29 regressors, and the smallest cholesky pivot element being 1.490e-08. Reduce max_iter or increase eps parameters.\n",
      "  ConvergenceWarning)\n",
      "/anaconda3/lib/python3.6/site-packages/sklearn/linear_model/least_angle.py:313: ConvergenceWarning: Regressors in active set degenerate. Dropping a regressor, after 29 iterations, i.e. alpha=1.472e-03, with an active set of 29 regressors, and the smallest cholesky pivot element being 1.490e-08. Reduce max_iter or increase eps parameters.\n",
      "  ConvergenceWarning)\n",
      "/anaconda3/lib/python3.6/site-packages/sklearn/linear_model/least_angle.py:313: ConvergenceWarning: Regressors in active set degenerate. Dropping a regressor, after 30 iterations, i.e. alpha=7.362e-04, with an active set of 30 regressors, and the smallest cholesky pivot element being 3.650e-08. Reduce max_iter or increase eps parameters.\n",
      "  ConvergenceWarning)\n"
     ]
    },
    {
     "data": {
      "text/plain": [
       "(None, None)"
      ]
     },
     "execution_count": 17,
     "metadata": {},
     "output_type": "execute_result"
    }
   ],
   "source": [
    "#Lars Regression\n",
    "lars_model=Lars().fit(X_train,y_train)\n",
    "pred = lars_model.predict(X_test)\n",
    "print('RMSE : ',np.sqrt(mean_squared_error(y_test,pred))),print('Model Score :', lars_model.score(X_test, y_test))"
   ]
  },
  {
   "cell_type": "code",
   "execution_count": 18,
   "metadata": {},
   "outputs": [],
   "source": [
    "#data_hotencod.columns"
   ]
  },
  {
   "cell_type": "code",
   "execution_count": 19,
   "metadata": {},
   "outputs": [],
   "source": [
    "#data=data_hotencod.drop(['ID'],axis=1)\n",
    "#pca = PCA(n_components=73)\n",
    "#pca.fit(data_hotencod.values)\n",
    "#The amount of variance that each PC explained\n",
    "#var= pca.explained_variance_ratio_\n",
    "#Cumulative Variance\n",
    "#var1=np.cumsum(np.round(pca.explained_variance_ratio_,decimals=4)*100)\n",
    "#graph of the variance\n",
    "#plt.plot(var1)"
   ]
  },
  {
   "cell_type": "code",
   "execution_count": 20,
   "metadata": {},
   "outputs": [],
   "source": [
    "#############################\n",
    "## from the above plot\n",
    "#The plot above shows that ~ 40 components explains around 99% variance in the data set.\n",
    "#By using PCA we have reduced 72 predictors to 40 without compromising on explained variance.\n",
    "#############################\n",
    "#Looking at above plot I'm taking 40 variables\n",
    "pca = PCA(n_components=37)\n",
    "#now fitting the selected components to the data\n",
    "pca.fit(data_hotencod.values)\n",
    "#PCA selected features\n",
    "X1=pca.fit_transform(data_hotencod.values)\n",
    "#splitting train and test data\n",
    "X_train_pca, X_test_pca, y_train_pca, y_test_pca = train_test_split(X1,data_hotencod['Absenteeism time in hours'],\n",
    "                                                                    test_size=0.2,random_state=42)"
   ]
  },
  {
   "cell_type": "code",
   "execution_count": 21,
   "metadata": {},
   "outputs": [
    {
     "name": "stdout",
     "output_type": "stream",
     "text": [
      "RMSE :  1.9521298140264163\n",
      "Model Score : -0.10319502095818556\n"
     ]
    }
   ],
   "source": [
    "# PCA_Decision Tree\n",
    "dt_model=DecisionTreeRegressor(random_state=3).fit(X_train_pca,y_train_pca)\n",
    "pred = dt_model.predict(X_test_pca) \n",
    "print('RMSE : ',np.sqrt(mean_squared_error(y_test_pca,pred)))\n",
    "print('Model Score :', rf_model.score(X_test, y_test))"
   ]
  },
  {
   "cell_type": "code",
   "execution_count": 22,
   "metadata": {},
   "outputs": [
    {
     "name": "stdout",
     "output_type": "stream",
     "text": [
      "RMSE :  1.308538055331374\n",
      "Model Score : 0.9842415752572323\n"
     ]
    }
   ],
   "source": [
    "#PCA_Random forest\n",
    "rf_model = RandomForestRegressor(n_estimators=700).fit(X_train_pca,y_train_pca)\n",
    "pred = rf_model.predict(X_test_pca) \n",
    "print('RMSE : ',np.sqrt(mean_squared_error(y_test,pred))),\n",
    "print('Model Score :', rf_model.score(X_test_pca, y_test_pca))"
   ]
  },
  {
   "cell_type": "code",
   "execution_count": 23,
   "metadata": {},
   "outputs": [
    {
     "name": "stdout",
     "output_type": "stream",
     "text": [
      "RMSE :  7.348670546252666\n"
     ]
    }
   ],
   "source": [
    "#Linear Regression\n",
    "import statsmodels.api as sm\n",
    "lr_model = sm.OLS(y_train_pca,X_train_pca).fit()\n",
    "pred = lr_model.predict(X_test_pca)\n",
    "print('RMSE : ',np.sqrt(mean_squared_error(y_test_pca,pred)))\n",
    "#print('Model Score :', lr_model.score(X_test_pca, y_test_pca))#lr_model.summary()"
   ]
  },
  {
   "cell_type": "code",
   "execution_count": 24,
   "metadata": {},
   "outputs": [
    {
     "name": "stdout",
     "output_type": "stream",
     "text": [
      "RMSE :  0.0006039609174362888\n",
      "Model Score : 0.9999999966429504\n"
     ]
    }
   ],
   "source": [
    "#Ridge Regression\n",
    "ridge_model=Ridge().fit(X_train_pca,y_train_pca)\n",
    "pred = ridge_model.predict(X_test_pca)\n",
    "print('RMSE : ',np.sqrt(mean_squared_error(y_test_pca,pred)))\n",
    "print('Model Score :', ridge_model.score(X_test_pca, y_test_pca))"
   ]
  },
  {
   "cell_type": "code",
   "execution_count": 25,
   "metadata": {},
   "outputs": [
    {
     "name": "stdout",
     "output_type": "stream",
     "text": [
      "RMSE :  0.25589155159246396\n",
      "Model Score : 0.9993973682869337\n"
     ]
    }
   ],
   "source": [
    "#Lasso regression\n",
    "lasso_model=Lasso().fit(X_train_pca,y_train_pca)\n",
    "pred = lasso_model.predict(X_test_pca)\n",
    "print('RMSE : ',np.sqrt(mean_squared_error(y_test_pca,pred)))\n",
    "print('Model Score :', lasso_model.score(X_test_pca, y_test_pca))"
   ]
  },
  {
   "cell_type": "code",
   "execution_count": 26,
   "metadata": {},
   "outputs": [
    {
     "name": "stdout",
     "output_type": "stream",
     "text": [
      "RMSE :  0.0005608284000665494\n",
      "Model Score : 0.9999999971053232\n"
     ]
    },
    {
     "data": {
      "text/plain": [
       "(None, None)"
      ]
     },
     "execution_count": 26,
     "metadata": {},
     "output_type": "execute_result"
    }
   ],
   "source": [
    "#Lars Regression\n",
    "lars_model=Lars().fit(X_train_pca,y_train_pca)\n",
    "pred = lars_model.predict(X_test_pca)\n",
    "print('RMSE : ',np.sqrt(mean_squared_error(y_test,pred))),print('Model Score :', lars_model.score(X_test_pca, y_test_pca))"
   ]
  },
  {
   "cell_type": "code",
   "execution_count": 27,
   "metadata": {},
   "outputs": [],
   "source": [
    "#############################\n",
    "## from the above plot\n",
    "#The plot above shows that ~ 40 components explains around 99% variance in the data set.\n",
    "#By using PCA we have reduced 72 predictors to 40 without compromising on explained variance.\n",
    "#############################\n",
    "#Looking at above plot I'm taking 40 variables\n",
    "pca = PCA(n_components=37)\n",
    "#now fitting the selected components to the data\n",
    "pca.fit(data_hotencod.values)\n",
    "#PCA selected features\n",
    "X1=pca.fit_transform(data_hotencod.values)\n",
    "#splitting train and test data\n",
    "X_train_pca, X_test_pca, y_train_pca, y_test_pca = train_test_split(X1,data_hotencod['Absenteeism time in hours'],\n",
    "                                                                    test_size=0,random_state=42)"
   ]
  },
  {
   "cell_type": "code",
   "execution_count": 28,
   "metadata": {},
   "outputs": [],
   "source": [
    "#Lars Regression\n",
    "lars_model=Lars().fit(X_train_pca,y_train_pca)\n",
    "pred = lars_model.predict(X_train_pca)\n",
    "#print('RMSE : ',np.sqrt(mean_squared_error(y_test,pred))),print('Model Score :', lars_model.score(X_test_pca, y_test_pca))"
   ]
  },
  {
   "cell_type": "code",
   "execution_count": 29,
   "metadata": {},
   "outputs": [
    {
     "data": {
      "text/plain": [
       "4965.999999999999"
      ]
     },
     "execution_count": 29,
     "metadata": {},
     "output_type": "execute_result"
    }
   ],
   "source": [
    "sum(pred)"
   ]
  },
  {
   "cell_type": "code",
   "execution_count": null,
   "metadata": {},
   "outputs": [],
   "source": []
  }
 ],
 "metadata": {
  "kernelspec": {
   "display_name": "Python 3",
   "language": "python",
   "name": "python3"
  },
  "language_info": {
   "codemirror_mode": {
    "name": "ipython",
    "version": 3
   },
   "file_extension": ".py",
   "mimetype": "text/x-python",
   "name": "python",
   "nbconvert_exporter": "python",
   "pygments_lexer": "ipython3",
   "version": "3.6.4"
  }
 },
 "nbformat": 4,
 "nbformat_minor": 2
}
